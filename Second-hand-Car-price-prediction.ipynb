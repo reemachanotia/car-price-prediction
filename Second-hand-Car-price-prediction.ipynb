{
 "cells": [
  {
   "cell_type": "code",
   "execution_count": 1,
   "id": "27d00e8a",
   "metadata": {},
   "outputs": [
    {
     "data": {
      "text/html": [
       "<div>\n",
       "<style scoped>\n",
       "    .dataframe tbody tr th:only-of-type {\n",
       "        vertical-align: middle;\n",
       "    }\n",
       "\n",
       "    .dataframe tbody tr th {\n",
       "        vertical-align: top;\n",
       "    }\n",
       "\n",
       "    .dataframe thead th {\n",
       "        text-align: right;\n",
       "    }\n",
       "</style>\n",
       "<table border=\"1\" class=\"dataframe\">\n",
       "  <thead>\n",
       "    <tr style=\"text-align: right;\">\n",
       "      <th></th>\n",
       "      <th>Unnamed: 0</th>\n",
       "      <th>name</th>\n",
       "      <th>year</th>\n",
       "      <th>selling_price</th>\n",
       "      <th>km_driven</th>\n",
       "      <th>fuel</th>\n",
       "      <th>seller_type</th>\n",
       "      <th>transmission</th>\n",
       "      <th>owner</th>\n",
       "      <th>mileage</th>\n",
       "      <th>engine</th>\n",
       "      <th>max_power</th>\n",
       "      <th>torque</th>\n",
       "      <th>seats</th>\n",
       "    </tr>\n",
       "  </thead>\n",
       "  <tbody>\n",
       "    <tr>\n",
       "      <th>0</th>\n",
       "      <td>0</td>\n",
       "      <td>Maruti Swift Dzire VDI</td>\n",
       "      <td>2014</td>\n",
       "      <td>450000</td>\n",
       "      <td>145500</td>\n",
       "      <td>Diesel</td>\n",
       "      <td>Individual</td>\n",
       "      <td>Manual</td>\n",
       "      <td>First Owner</td>\n",
       "      <td>23.4 kmpl</td>\n",
       "      <td>1248 CC</td>\n",
       "      <td>74 bhp</td>\n",
       "      <td>190Nm@ 2000rpm</td>\n",
       "      <td>5.000</td>\n",
       "    </tr>\n",
       "    <tr>\n",
       "      <th>1</th>\n",
       "      <td>1</td>\n",
       "      <td>Skoda Rapid 1.5 TDI Ambition</td>\n",
       "      <td>2014</td>\n",
       "      <td>370000</td>\n",
       "      <td>120000</td>\n",
       "      <td>Diesel</td>\n",
       "      <td>Individual</td>\n",
       "      <td>Manual</td>\n",
       "      <td>Second Owner</td>\n",
       "      <td>21.14 kmpl</td>\n",
       "      <td>1498 CC</td>\n",
       "      <td>103.52 bhp</td>\n",
       "      <td>250Nm@ 1500-2500rpm</td>\n",
       "      <td>5.000</td>\n",
       "    </tr>\n",
       "    <tr>\n",
       "      <th>2</th>\n",
       "      <td>2</td>\n",
       "      <td>Honda City 2017-2020 EXi</td>\n",
       "      <td>2006</td>\n",
       "      <td>158000</td>\n",
       "      <td>140000</td>\n",
       "      <td>Petrol</td>\n",
       "      <td>Individual</td>\n",
       "      <td>Manual</td>\n",
       "      <td>Third Owner</td>\n",
       "      <td>17.7 kmpl</td>\n",
       "      <td>1497 CC</td>\n",
       "      <td>78 bhp</td>\n",
       "      <td>12.7@ 2,700(kgm@ rpm)</td>\n",
       "      <td>5.000</td>\n",
       "    </tr>\n",
       "    <tr>\n",
       "      <th>3</th>\n",
       "      <td>3</td>\n",
       "      <td>Hyundai i20 Sportz Diesel</td>\n",
       "      <td>2010</td>\n",
       "      <td>225000</td>\n",
       "      <td>127000</td>\n",
       "      <td>Diesel</td>\n",
       "      <td>Individual</td>\n",
       "      <td>Manual</td>\n",
       "      <td>First Owner</td>\n",
       "      <td>23.0 kmpl</td>\n",
       "      <td>1396 CC</td>\n",
       "      <td>90 bhp</td>\n",
       "      <td>22.4 kgm at 1750-2750rpm</td>\n",
       "      <td>5.000</td>\n",
       "    </tr>\n",
       "    <tr>\n",
       "      <th>4</th>\n",
       "      <td>4</td>\n",
       "      <td>Maruti Swift VXI BSIII</td>\n",
       "      <td>2007</td>\n",
       "      <td>130000</td>\n",
       "      <td>120000</td>\n",
       "      <td>Petrol</td>\n",
       "      <td>Individual</td>\n",
       "      <td>Manual</td>\n",
       "      <td>First Owner</td>\n",
       "      <td>16.1 kmpl</td>\n",
       "      <td>1298 CC</td>\n",
       "      <td>88.2 bhp</td>\n",
       "      <td>11.5@ 4,500(kgm@ rpm)</td>\n",
       "      <td>5.000</td>\n",
       "    </tr>\n",
       "    <tr>\n",
       "      <th>...</th>\n",
       "      <td>...</td>\n",
       "      <td>...</td>\n",
       "      <td>...</td>\n",
       "      <td>...</td>\n",
       "      <td>...</td>\n",
       "      <td>...</td>\n",
       "      <td>...</td>\n",
       "      <td>...</td>\n",
       "      <td>...</td>\n",
       "      <td>...</td>\n",
       "      <td>...</td>\n",
       "      <td>...</td>\n",
       "      <td>...</td>\n",
       "      <td>...</td>\n",
       "    </tr>\n",
       "    <tr>\n",
       "      <th>8122</th>\n",
       "      <td>8122</td>\n",
       "      <td>Hyundai i20 Magna</td>\n",
       "      <td>2013</td>\n",
       "      <td>320000</td>\n",
       "      <td>110000</td>\n",
       "      <td>Petrol</td>\n",
       "      <td>Individual</td>\n",
       "      <td>Manual</td>\n",
       "      <td>First Owner</td>\n",
       "      <td>18.5 kmpl</td>\n",
       "      <td>1197 CC</td>\n",
       "      <td>82.85 bhp</td>\n",
       "      <td>113.7Nm@ 4000rpm</td>\n",
       "      <td>5.000</td>\n",
       "    </tr>\n",
       "    <tr>\n",
       "      <th>8123</th>\n",
       "      <td>8123</td>\n",
       "      <td>Hyundai Verna CRDi SX</td>\n",
       "      <td>2007</td>\n",
       "      <td>135000</td>\n",
       "      <td>119000</td>\n",
       "      <td>Diesel</td>\n",
       "      <td>Individual</td>\n",
       "      <td>Manual</td>\n",
       "      <td>Fourth &amp; Above Owner</td>\n",
       "      <td>16.8 kmpl</td>\n",
       "      <td>1493 CC</td>\n",
       "      <td>110 bhp</td>\n",
       "      <td>24@ 1,900-2,750(kgm@ rpm)</td>\n",
       "      <td>5.000</td>\n",
       "    </tr>\n",
       "    <tr>\n",
       "      <th>8124</th>\n",
       "      <td>8124</td>\n",
       "      <td>Maruti Swift Dzire ZDi</td>\n",
       "      <td>2009</td>\n",
       "      <td>382000</td>\n",
       "      <td>120000</td>\n",
       "      <td>Diesel</td>\n",
       "      <td>Individual</td>\n",
       "      <td>Manual</td>\n",
       "      <td>First Owner</td>\n",
       "      <td>19.3 kmpl</td>\n",
       "      <td>1248 CC</td>\n",
       "      <td>73.9 bhp</td>\n",
       "      <td>190Nm@ 2000rpm</td>\n",
       "      <td>5.000</td>\n",
       "    </tr>\n",
       "    <tr>\n",
       "      <th>8125</th>\n",
       "      <td>8125</td>\n",
       "      <td>Tata Indigo CR4</td>\n",
       "      <td>2013</td>\n",
       "      <td>290000</td>\n",
       "      <td>25000</td>\n",
       "      <td>Diesel</td>\n",
       "      <td>Individual</td>\n",
       "      <td>Manual</td>\n",
       "      <td>First Owner</td>\n",
       "      <td>23.57 kmpl</td>\n",
       "      <td>1396 CC</td>\n",
       "      <td>70 bhp</td>\n",
       "      <td>140Nm@ 1800-3000rpm</td>\n",
       "      <td>5.000</td>\n",
       "    </tr>\n",
       "    <tr>\n",
       "      <th>8126</th>\n",
       "      <td>8126</td>\n",
       "      <td>Tata Indigo CR4</td>\n",
       "      <td>2013</td>\n",
       "      <td>290000</td>\n",
       "      <td>25000</td>\n",
       "      <td>Diesel</td>\n",
       "      <td>Individual</td>\n",
       "      <td>Manual</td>\n",
       "      <td>First Owner</td>\n",
       "      <td>23.57 kmpl</td>\n",
       "      <td>1396 CC</td>\n",
       "      <td>70 bhp</td>\n",
       "      <td>140Nm@ 1800-3000rpm</td>\n",
       "      <td>5.000</td>\n",
       "    </tr>\n",
       "  </tbody>\n",
       "</table>\n",
       "<p>8127 rows × 14 columns</p>\n",
       "</div>"
      ],
      "text/plain": [
       "      Unnamed: 0                          name  year  selling_price  \\\n",
       "0              0        Maruti Swift Dzire VDI  2014         450000   \n",
       "1              1  Skoda Rapid 1.5 TDI Ambition  2014         370000   \n",
       "2              2      Honda City 2017-2020 EXi  2006         158000   \n",
       "3              3     Hyundai i20 Sportz Diesel  2010         225000   \n",
       "4              4        Maruti Swift VXI BSIII  2007         130000   \n",
       "...          ...                           ...   ...            ...   \n",
       "8122        8122             Hyundai i20 Magna  2013         320000   \n",
       "8123        8123         Hyundai Verna CRDi SX  2007         135000   \n",
       "8124        8124        Maruti Swift Dzire ZDi  2009         382000   \n",
       "8125        8125               Tata Indigo CR4  2013         290000   \n",
       "8126        8126               Tata Indigo CR4  2013         290000   \n",
       "\n",
       "      km_driven    fuel seller_type transmission                 owner  \\\n",
       "0        145500  Diesel  Individual       Manual           First Owner   \n",
       "1        120000  Diesel  Individual       Manual          Second Owner   \n",
       "2        140000  Petrol  Individual       Manual           Third Owner   \n",
       "3        127000  Diesel  Individual       Manual           First Owner   \n",
       "4        120000  Petrol  Individual       Manual           First Owner   \n",
       "...         ...     ...         ...          ...                   ...   \n",
       "8122     110000  Petrol  Individual       Manual           First Owner   \n",
       "8123     119000  Diesel  Individual       Manual  Fourth & Above Owner   \n",
       "8124     120000  Diesel  Individual       Manual           First Owner   \n",
       "8125      25000  Diesel  Individual       Manual           First Owner   \n",
       "8126      25000  Diesel  Individual       Manual           First Owner   \n",
       "\n",
       "         mileage   engine   max_power                     torque  seats  \n",
       "0      23.4 kmpl  1248 CC      74 bhp             190Nm@ 2000rpm  5.000  \n",
       "1     21.14 kmpl  1498 CC  103.52 bhp        250Nm@ 1500-2500rpm  5.000  \n",
       "2      17.7 kmpl  1497 CC      78 bhp      12.7@ 2,700(kgm@ rpm)  5.000  \n",
       "3      23.0 kmpl  1396 CC      90 bhp   22.4 kgm at 1750-2750rpm  5.000  \n",
       "4      16.1 kmpl  1298 CC    88.2 bhp      11.5@ 4,500(kgm@ rpm)  5.000  \n",
       "...          ...      ...         ...                        ...    ...  \n",
       "8122   18.5 kmpl  1197 CC   82.85 bhp           113.7Nm@ 4000rpm  5.000  \n",
       "8123   16.8 kmpl  1493 CC     110 bhp  24@ 1,900-2,750(kgm@ rpm)  5.000  \n",
       "8124   19.3 kmpl  1248 CC    73.9 bhp             190Nm@ 2000rpm  5.000  \n",
       "8125  23.57 kmpl  1396 CC      70 bhp        140Nm@ 1800-3000rpm  5.000  \n",
       "8126  23.57 kmpl  1396 CC      70 bhp        140Nm@ 1800-3000rpm  5.000  \n",
       "\n",
       "[8127 rows x 14 columns]"
      ]
     },
     "execution_count": 1,
     "metadata": {},
     "output_type": "execute_result"
    }
   ],
   "source": [
    "#Car project\n",
    "import pandas as pd\n",
    "import numpy as np\n",
    "pd.set_option('display.float_format', lambda x: '%.3f' % x)\n",
    "df=pd.read_csv(\"car.csv\")\n",
    "\n",
    "df"
   ]
  },
  {
   "cell_type": "code",
   "execution_count": 2,
   "id": "418369c2",
   "metadata": {},
   "outputs": [],
   "source": [
    "df.isna().sum()\n",
    "df=df.dropna()\n",
    "df=df.reset_index(drop=True)"
   ]
  },
  {
   "cell_type": "code",
   "execution_count": 3,
   "id": "543d04f0",
   "metadata": {},
   "outputs": [
    {
     "data": {
      "text/plain": [
       "5.000     6254\n",
       "7.000     1120\n",
       "8.000      235\n",
       "4.000      133\n",
       "9.000       80\n",
       "6.000       62\n",
       "10.000      19\n",
       "2.000        2\n",
       "Name: seats, dtype: int64"
      ]
     },
     "execution_count": 3,
     "metadata": {},
     "output_type": "execute_result"
    }
   ],
   "source": [
    "#seats wrt selling_price\n",
    "df['seats'].value_counts()\n",
    "#We have only single 14 seater car so its better to drop that row (outlier)\n",
    "idx=df['seats'].idxmax()\n",
    "df=df.drop(index=idx)\n",
    "df['seats'].value_counts()\n",
    "\n",
    "\n",
    "\n"
   ]
  },
  {
   "cell_type": "code",
   "execution_count": 4,
   "id": "62ff2c7c",
   "metadata": {},
   "outputs": [
    {
     "data": {
      "text/html": [
       "<div>\n",
       "<style scoped>\n",
       "    .dataframe tbody tr th:only-of-type {\n",
       "        vertical-align: middle;\n",
       "    }\n",
       "\n",
       "    .dataframe tbody tr th {\n",
       "        vertical-align: top;\n",
       "    }\n",
       "\n",
       "    .dataframe thead th {\n",
       "        text-align: right;\n",
       "    }\n",
       "</style>\n",
       "<table border=\"1\" class=\"dataframe\">\n",
       "  <thead>\n",
       "    <tr style=\"text-align: right;\">\n",
       "      <th></th>\n",
       "      <th>Unnamed: 0</th>\n",
       "      <th>name</th>\n",
       "      <th>year</th>\n",
       "      <th>selling_price</th>\n",
       "      <th>km_driven</th>\n",
       "      <th>fuel</th>\n",
       "      <th>seller_type</th>\n",
       "      <th>transmission</th>\n",
       "      <th>owner</th>\n",
       "      <th>mileage</th>\n",
       "      <th>engine</th>\n",
       "      <th>max_power</th>\n",
       "      <th>seats</th>\n",
       "    </tr>\n",
       "  </thead>\n",
       "  <tbody>\n",
       "    <tr>\n",
       "      <th>0</th>\n",
       "      <td>0</td>\n",
       "      <td>Maruti Swift Dzire VDI</td>\n",
       "      <td>2014</td>\n",
       "      <td>450000</td>\n",
       "      <td>145500</td>\n",
       "      <td>Diesel</td>\n",
       "      <td>Individual</td>\n",
       "      <td>Manual</td>\n",
       "      <td>First Owner</td>\n",
       "      <td>23.4 kmpl</td>\n",
       "      <td>1248 CC</td>\n",
       "      <td>74 bhp</td>\n",
       "      <td>5.000</td>\n",
       "    </tr>\n",
       "    <tr>\n",
       "      <th>1</th>\n",
       "      <td>1</td>\n",
       "      <td>Skoda Rapid 1.5 TDI Ambition</td>\n",
       "      <td>2014</td>\n",
       "      <td>370000</td>\n",
       "      <td>120000</td>\n",
       "      <td>Diesel</td>\n",
       "      <td>Individual</td>\n",
       "      <td>Manual</td>\n",
       "      <td>Second Owner</td>\n",
       "      <td>21.14 kmpl</td>\n",
       "      <td>1498 CC</td>\n",
       "      <td>103.52 bhp</td>\n",
       "      <td>5.000</td>\n",
       "    </tr>\n",
       "    <tr>\n",
       "      <th>2</th>\n",
       "      <td>2</td>\n",
       "      <td>Honda City 2017-2020 EXi</td>\n",
       "      <td>2006</td>\n",
       "      <td>158000</td>\n",
       "      <td>140000</td>\n",
       "      <td>Petrol</td>\n",
       "      <td>Individual</td>\n",
       "      <td>Manual</td>\n",
       "      <td>Third Owner</td>\n",
       "      <td>17.7 kmpl</td>\n",
       "      <td>1497 CC</td>\n",
       "      <td>78 bhp</td>\n",
       "      <td>5.000</td>\n",
       "    </tr>\n",
       "    <tr>\n",
       "      <th>3</th>\n",
       "      <td>3</td>\n",
       "      <td>Hyundai i20 Sportz Diesel</td>\n",
       "      <td>2010</td>\n",
       "      <td>225000</td>\n",
       "      <td>127000</td>\n",
       "      <td>Diesel</td>\n",
       "      <td>Individual</td>\n",
       "      <td>Manual</td>\n",
       "      <td>First Owner</td>\n",
       "      <td>23.0 kmpl</td>\n",
       "      <td>1396 CC</td>\n",
       "      <td>90 bhp</td>\n",
       "      <td>5.000</td>\n",
       "    </tr>\n",
       "    <tr>\n",
       "      <th>4</th>\n",
       "      <td>4</td>\n",
       "      <td>Maruti Swift VXI BSIII</td>\n",
       "      <td>2007</td>\n",
       "      <td>130000</td>\n",
       "      <td>120000</td>\n",
       "      <td>Petrol</td>\n",
       "      <td>Individual</td>\n",
       "      <td>Manual</td>\n",
       "      <td>First Owner</td>\n",
       "      <td>16.1 kmpl</td>\n",
       "      <td>1298 CC</td>\n",
       "      <td>88.2 bhp</td>\n",
       "      <td>5.000</td>\n",
       "    </tr>\n",
       "    <tr>\n",
       "      <th>...</th>\n",
       "      <td>...</td>\n",
       "      <td>...</td>\n",
       "      <td>...</td>\n",
       "      <td>...</td>\n",
       "      <td>...</td>\n",
       "      <td>...</td>\n",
       "      <td>...</td>\n",
       "      <td>...</td>\n",
       "      <td>...</td>\n",
       "      <td>...</td>\n",
       "      <td>...</td>\n",
       "      <td>...</td>\n",
       "      <td>...</td>\n",
       "    </tr>\n",
       "    <tr>\n",
       "      <th>7901</th>\n",
       "      <td>8122</td>\n",
       "      <td>Hyundai i20 Magna</td>\n",
       "      <td>2013</td>\n",
       "      <td>320000</td>\n",
       "      <td>110000</td>\n",
       "      <td>Petrol</td>\n",
       "      <td>Individual</td>\n",
       "      <td>Manual</td>\n",
       "      <td>First Owner</td>\n",
       "      <td>18.5 kmpl</td>\n",
       "      <td>1197 CC</td>\n",
       "      <td>82.85 bhp</td>\n",
       "      <td>5.000</td>\n",
       "    </tr>\n",
       "    <tr>\n",
       "      <th>7902</th>\n",
       "      <td>8123</td>\n",
       "      <td>Hyundai Verna CRDi SX</td>\n",
       "      <td>2007</td>\n",
       "      <td>135000</td>\n",
       "      <td>119000</td>\n",
       "      <td>Diesel</td>\n",
       "      <td>Individual</td>\n",
       "      <td>Manual</td>\n",
       "      <td>Fourth &amp; Above Owner</td>\n",
       "      <td>16.8 kmpl</td>\n",
       "      <td>1493 CC</td>\n",
       "      <td>110 bhp</td>\n",
       "      <td>5.000</td>\n",
       "    </tr>\n",
       "    <tr>\n",
       "      <th>7903</th>\n",
       "      <td>8124</td>\n",
       "      <td>Maruti Swift Dzire ZDi</td>\n",
       "      <td>2009</td>\n",
       "      <td>382000</td>\n",
       "      <td>120000</td>\n",
       "      <td>Diesel</td>\n",
       "      <td>Individual</td>\n",
       "      <td>Manual</td>\n",
       "      <td>First Owner</td>\n",
       "      <td>19.3 kmpl</td>\n",
       "      <td>1248 CC</td>\n",
       "      <td>73.9 bhp</td>\n",
       "      <td>5.000</td>\n",
       "    </tr>\n",
       "    <tr>\n",
       "      <th>7904</th>\n",
       "      <td>8125</td>\n",
       "      <td>Tata Indigo CR4</td>\n",
       "      <td>2013</td>\n",
       "      <td>290000</td>\n",
       "      <td>25000</td>\n",
       "      <td>Diesel</td>\n",
       "      <td>Individual</td>\n",
       "      <td>Manual</td>\n",
       "      <td>First Owner</td>\n",
       "      <td>23.57 kmpl</td>\n",
       "      <td>1396 CC</td>\n",
       "      <td>70 bhp</td>\n",
       "      <td>5.000</td>\n",
       "    </tr>\n",
       "    <tr>\n",
       "      <th>7905</th>\n",
       "      <td>8126</td>\n",
       "      <td>Tata Indigo CR4</td>\n",
       "      <td>2013</td>\n",
       "      <td>290000</td>\n",
       "      <td>25000</td>\n",
       "      <td>Diesel</td>\n",
       "      <td>Individual</td>\n",
       "      <td>Manual</td>\n",
       "      <td>First Owner</td>\n",
       "      <td>23.57 kmpl</td>\n",
       "      <td>1396 CC</td>\n",
       "      <td>70 bhp</td>\n",
       "      <td>5.000</td>\n",
       "    </tr>\n",
       "  </tbody>\n",
       "</table>\n",
       "<p>7905 rows × 13 columns</p>\n",
       "</div>"
      ],
      "text/plain": [
       "      Unnamed: 0                          name  year  selling_price  \\\n",
       "0              0        Maruti Swift Dzire VDI  2014         450000   \n",
       "1              1  Skoda Rapid 1.5 TDI Ambition  2014         370000   \n",
       "2              2      Honda City 2017-2020 EXi  2006         158000   \n",
       "3              3     Hyundai i20 Sportz Diesel  2010         225000   \n",
       "4              4        Maruti Swift VXI BSIII  2007         130000   \n",
       "...          ...                           ...   ...            ...   \n",
       "7901        8122             Hyundai i20 Magna  2013         320000   \n",
       "7902        8123         Hyundai Verna CRDi SX  2007         135000   \n",
       "7903        8124        Maruti Swift Dzire ZDi  2009         382000   \n",
       "7904        8125               Tata Indigo CR4  2013         290000   \n",
       "7905        8126               Tata Indigo CR4  2013         290000   \n",
       "\n",
       "      km_driven    fuel seller_type transmission                 owner  \\\n",
       "0        145500  Diesel  Individual       Manual           First Owner   \n",
       "1        120000  Diesel  Individual       Manual          Second Owner   \n",
       "2        140000  Petrol  Individual       Manual           Third Owner   \n",
       "3        127000  Diesel  Individual       Manual           First Owner   \n",
       "4        120000  Petrol  Individual       Manual           First Owner   \n",
       "...         ...     ...         ...          ...                   ...   \n",
       "7901     110000  Petrol  Individual       Manual           First Owner   \n",
       "7902     119000  Diesel  Individual       Manual  Fourth & Above Owner   \n",
       "7903     120000  Diesel  Individual       Manual           First Owner   \n",
       "7904      25000  Diesel  Individual       Manual           First Owner   \n",
       "7905      25000  Diesel  Individual       Manual           First Owner   \n",
       "\n",
       "         mileage   engine   max_power  seats  \n",
       "0      23.4 kmpl  1248 CC      74 bhp  5.000  \n",
       "1     21.14 kmpl  1498 CC  103.52 bhp  5.000  \n",
       "2      17.7 kmpl  1497 CC      78 bhp  5.000  \n",
       "3      23.0 kmpl  1396 CC      90 bhp  5.000  \n",
       "4      16.1 kmpl  1298 CC    88.2 bhp  5.000  \n",
       "...          ...      ...         ...    ...  \n",
       "7901   18.5 kmpl  1197 CC   82.85 bhp  5.000  \n",
       "7902   16.8 kmpl  1493 CC     110 bhp  5.000  \n",
       "7903   19.3 kmpl  1248 CC    73.9 bhp  5.000  \n",
       "7904  23.57 kmpl  1396 CC      70 bhp  5.000  \n",
       "7905  23.57 kmpl  1396 CC      70 bhp  5.000  \n",
       "\n",
       "[7905 rows x 13 columns]"
      ]
     },
     "execution_count": 4,
     "metadata": {},
     "output_type": "execute_result"
    }
   ],
   "source": [
    "#Torque\n",
    "df.dtypes\n",
    "df.head(15)\n",
    "\n",
    "#Drop torque column because of irregular data pattern\n",
    "df=df.drop(columns=['torque'])\n",
    "df"
   ]
  },
  {
   "cell_type": "code",
   "execution_count": 5,
   "id": "920035b1",
   "metadata": {},
   "outputs": [
    {
     "data": {
      "text/plain": [
       "<AxesSubplot:xlabel='max_power'>"
      ]
     },
     "execution_count": 5,
     "metadata": {},
     "output_type": "execute_result"
    },
    {
     "data": {
      "image/png": "[encoded data removed]",
      "text/plain": [
       "<Figure size 432x288 with 1 Axes>"
      ]
     },
     "metadata": {
      "needs_background": "light"
     },
     "output_type": "display_data"
    }
   ],
   "source": [
    "#MAx Power\n",
    "df['max_power']=df['max_power'].apply(lambda x:x.split()[0])\n",
    "#df['max_power'].astype(\"float32\") -->Error\n",
    "\n",
    "#Task--> Find illegal value in max_power column and drop it\n",
    "#Hint -> USe Try except\n",
    "\n",
    "df.dtypes\n",
    "illegal=[]\n",
    "for i in range(len(df)):\n",
    "    try:\n",
    "        float(df.iloc[i,-2])\n",
    "    except:\n",
    "        illegal.append(i)\n",
    "df=df.drop(index=illegal).reset_index(drop=True)\n",
    "df['max_power']=df['max_power'].astype(\"float32\")\n",
    "df.dtypes\n",
    "import seaborn\n",
    "seaborn.violinplot(x=df['max_power'])\n"
   ]
  },
  {
   "cell_type": "code",
   "execution_count": 6,
   "id": "8afe3387",
   "metadata": {},
   "outputs": [
    {
     "data": {
      "text/plain": [
       "<AxesSubplot:xlabel='engine'>"
      ]
     },
     "execution_count": 6,
     "metadata": {},
     "output_type": "execute_result"
    },
    {
     "data": {
      "image/png": "[encoded data removed]",
      "text/plain": [
       "<Figure size 432x288 with 1 Axes>"
      ]
     },
     "metadata": {
      "needs_background": "light"
     },
     "output_type": "display_data"
    }
   ],
   "source": [
    "#Engine\n",
    "df['engine']=df['engine'].apply(lambda x:x.split()[0])\n",
    "illegal=[]\n",
    "for i in range(len(df)):\n",
    "    try:\n",
    "        float(df.iloc[i,-3])\n",
    "    except:\n",
    "        illegal.append(i)\n",
    "df=df.drop(index=illegal).reset_index(drop=True)\n",
    "df['engine']=df['engine'].astype(\"float32\")\n",
    "df.dtypes\n",
    "import seaborn\n",
    "seaborn.violinplot(x=df['engine'])\n"
   ]
  },
  {
   "cell_type": "code",
   "execution_count": 7,
   "id": "fb719e00",
   "metadata": {},
   "outputs": [
    {
     "data": {
      "image/png": "[encoded data removed]",
      "text/plain": [
       "<Figure size 432x288 with 1 Axes>"
      ]
     },
     "metadata": {
      "needs_background": "light"
     },
     "output_type": "display_data"
    }
   ],
   "source": [
    "#Mileage\n",
    "df['mileage']=df['mileage'].apply(lambda x:x.split()[0])\n",
    "df['mileage']=df['mileage'].astype(\"float32\")\n",
    "\n",
    "from matplotlib import pyplot as plt\n",
    "plt.hist(df['mileage'])\n",
    "plt.show()"
   ]
  },
  {
   "cell_type": "code",
   "execution_count": 8,
   "id": "de1794e2",
   "metadata": {},
   "outputs": [
    {
     "data": {
      "text/plain": [
       "<AxesSubplot:xlabel='owner', ylabel='selling_price'>"
      ]
     },
     "execution_count": 8,
     "metadata": {},
     "output_type": "execute_result"
    },
    {
     "data": {
      "image/png": "[encoded data removed]",
      "text/plain": [
       "<Figure size 432x288 with 1 Axes>"
      ]
     },
     "metadata": {
      "needs_background": "light"
     },
     "output_type": "display_data"
    }
   ],
   "source": [
    "df\n",
    "#Owner\n",
    "df['owner'].value_counts()\n",
    "df['owner']=df['owner'].replace({\"Fifth\":\"Fourth & Above Owner\"})\n",
    "df['owner'].value_counts()\n",
    "#This column is ordinal so we will use Label Encoding\n",
    "f=df['owner']=='Test Drive Car'\n",
    "df=df[~f].reset_index(drop=True)\n",
    "df['owner'].value_counts()\n",
    "#Test Drive Car is disturbing the ordinal relationship of column Thats why drop those categories\n",
    "\n",
    "import seaborn\n",
    "seaborn.violinplot(x=df['owner'],y=df['selling_price'])\n",
    "#Above function will plot the distribution of each category in 'owner' wrt selling_price"
   ]
  },
  {
   "cell_type": "code",
   "execution_count": 9,
   "id": "ad79eb45",
   "metadata": {},
   "outputs": [
    {
     "name": "stdout",
     "output_type": "stream",
     "text": [
      "Manual       6861\n",
      "Automatic    1037\n",
      "Name: transmission, dtype: int64\n"
     ]
    },
    {
     "data": {
      "text/plain": [
       "<AxesSubplot:xlabel='transmission', ylabel='selling_price'>"
      ]
     },
     "execution_count": 9,
     "metadata": {},
     "output_type": "execute_result"
    },
    {
     "data": {
      "image/png": "[encoded data removed]",
      "text/plain": [
       "<Figure size 432x288 with 1 Axes>"
      ]
     },
     "metadata": {
      "needs_background": "light"
     },
     "output_type": "display_data"
    }
   ],
   "source": [
    "#transmission \n",
    "print(df['transmission'].value_counts())\n",
    "seaborn.violinplot(x=df['transmission'],y=df['selling_price'])\n",
    "#Describe?\n",
    "\n",
    "#task-->Plot the bar graph of Type of transmission for each owner type  on one figure\n"
   ]
  },
  {
   "cell_type": "code",
   "execution_count": 10,
   "id": "a8dd3b2b",
   "metadata": {},
   "outputs": [
    {
     "name": "stdout",
     "output_type": "stream",
     "text": [
      "Individual          6560\n",
      "Dealer              1102\n",
      "Trustmark Dealer     236\n",
      "Name: seller_type, dtype: int64\n"
     ]
    },
    {
     "data": {
      "text/plain": [
       "<AxesSubplot:xlabel='seller_type', ylabel='selling_price'>"
      ]
     },
     "execution_count": 10,
     "metadata": {},
     "output_type": "execute_result"
    },
    {
     "data": {
      "image/png": "[encoded data removed]",
      "text/plain": [
       "<Figure size 432x288 with 1 Axes>"
      ]
     },
     "metadata": {
      "needs_background": "light"
     },
     "output_type": "display_data"
    }
   ],
   "source": [
    "#sellertype\n",
    "\n",
    "print(df['seller_type'].value_counts())\n",
    "seaborn.boxplot(x=df['seller_type'],y=df['selling_price'])\n"
   ]
  },
  {
   "cell_type": "code",
   "execution_count": 11,
   "id": "046856a6",
   "metadata": {},
   "outputs": [
    {
     "data": {
      "text/plain": [
       "<AxesSubplot:xlabel='seller_type', ylabel='selling_price'>"
      ]
     },
     "execution_count": 11,
     "metadata": {},
     "output_type": "execute_result"
    },
    {
     "data": {
      "image/png": "[encoded data removed]",
      "text/plain": [
       "<Figure size 432x288 with 1 Axes>"
      ]
     },
     "metadata": {
      "needs_background": "light"
     },
     "output_type": "display_data"
    }
   ],
   "source": [
    "seaborn.violinplot(x=df['seller_type'],y=df['selling_price'])\n"
   ]
  },
  {
   "cell_type": "code",
   "execution_count": 12,
   "id": "9a2d906e",
   "metadata": {},
   "outputs": [
    {
     "name": "stdout",
     "output_type": "stream",
     "text": [
      "Diesel    4297\n",
      "Petrol    3514\n",
      "CNG         52\n",
      "LPG         35\n",
      "Name: fuel, dtype: int64\n"
     ]
    },
    {
     "data": {
      "image/png": "[encoded data removed]",
      "text/plain": [
       "<Figure size 432x288 with 1 Axes>"
      ]
     },
     "metadata": {
      "needs_background": "light"
     },
     "output_type": "display_data"
    }
   ],
   "source": [
    "print(df['fuel'].value_counts())\n",
    "seaborn.violinplot(x=df['fuel'],y=df['selling_price'])\n",
    "\n",
    "#We can see the distribution of Petrol-Diesel is same  and LPG-CNG is overall same\n",
    "#So MErge them\n",
    "\n",
    "df['fuel']=df['fuel'].replace({\"Petrol\":0,\"Diesel\":0,\"CNG\":1,\"LPG\":1})\n"
   ]
  },
  {
   "cell_type": "code",
   "execution_count": 13,
   "id": "c5bf9b27",
   "metadata": {},
   "outputs": [
    {
     "data": {
      "image/png": "[encoded data removed]",
      "text/plain": [
       "<Figure size 432x288 with 1 Axes>"
      ]
     },
     "metadata": {
      "needs_background": "light"
     },
     "output_type": "display_data"
    }
   ],
   "source": [
    "#Km driven\n",
    "from matplotlib import pyplot as plt\n",
    "plt.hist(df['km_driven'])\n",
    "plt.ticklabel_format(style='plain')\n",
    "plt.show()\n"
   ]
  },
  {
   "cell_type": "code",
   "execution_count": 14,
   "id": "fbd1eb96",
   "metadata": {},
   "outputs": [],
   "source": [
    "#Task->Tell ratio of Cars with selling price between 1 lakh to 5 lakh ,5 lakh to 20 lakh , 20+ using Pie chart\n",
    "\n"
   ]
  },
  {
   "cell_type": "code",
   "execution_count": 15,
   "id": "0f290eac",
   "metadata": {
    "scrolled": true
   },
   "outputs": [
    {
     "data": {
      "image/png": "[encoded data removed]",
      "text/plain": [
       "<Figure size 432x288 with 1 Axes>"
      ]
     },
     "metadata": {
      "needs_background": "light"
     },
     "output_type": "display_data"
    },
    {
     "data": {
      "text/plain": [
       "1    7168\n",
       "0     426\n",
       "2     304\n",
       "Name: name, dtype: int64"
      ]
     },
     "execution_count": 15,
     "metadata": {},
     "output_type": "execute_result"
    }
   ],
   "source": [
    "#Name\n",
    "np.set_printoptions(suppress=True)\n",
    "\n",
    "df['name'].value_counts()\n",
    "\n",
    "df['name']=df['name'].apply(lambda x:x.split()[0])\n",
    "df['name'].value_counts()\n",
    "\n",
    "#Brand    Selling_price\n",
    "#When categories are more its need to merge them\n",
    "\n",
    "#Group by\n",
    "brands=df.groupby(\"name\")\n",
    "mean=brands['selling_price'].mean()\n",
    "\n",
    "plt.bar(brands.groups.keys(),mean)\n",
    "plt.show()\n",
    "\n",
    "#Task--> Sort Brand names into 3 groups acc to their avg selling price\n",
    "mean=mean.sort_values(ascending=False)\n",
    "\n",
    "#We will merge the column according to the average selling price of brand\n",
    "#Threee groups will be made of brands\n",
    "def fxn(x):\n",
    "    if x in mean.index[0:10]:\n",
    "        return 0\n",
    "    elif x in mean.index[10:25]:\n",
    "        return 1\n",
    "    else:\n",
    "        return 2\n",
    "    \n",
    "df['name']=df['name'].apply(fxn)\n",
    "\n",
    "df['name'].value_counts()"
   ]
  },
  {
   "cell_type": "markdown",
   "id": "7bc720ff",
   "metadata": {},
   "source": [
    "# Statistical analytics"
   ]
  },
  {
   "cell_type": "code",
   "execution_count": 16,
   "id": "55ea2fe4",
   "metadata": {},
   "outputs": [
    {
     "name": "stdout",
     "output_type": "stream",
     "text": [
      "      year  selling_price  km_driven  mileage   engine  max_power\n",
      "0     2014         450000     145500   23.400 1248.000     74.000\n",
      "1     2014         370000     120000   21.140 1498.000    103.520\n",
      "2     2006         158000     140000   17.700 1497.000     78.000\n",
      "3     2010         225000     127000   23.000 1396.000     90.000\n",
      "4     2007         130000     120000   16.100 1298.000     88.200\n",
      "...    ...            ...        ...      ...      ...        ...\n",
      "7893  2013         320000     110000   18.500 1197.000     82.850\n",
      "7894  2007         135000     119000   16.800 1493.000    110.000\n",
      "7895  2009         382000     120000   19.300 1248.000     73.900\n",
      "7896  2013         290000      25000   23.570 1396.000     70.000\n",
      "7897  2013         290000      25000   23.570 1396.000     70.000\n",
      "\n",
      "[7898 rows x 6 columns]\n"
     ]
    },
    {
     "name": "stderr",
     "output_type": "stream",
     "text": [
      "C:\\Users\\MANIND~1\\AppData\\Local\\Temp/ipykernel_2764/1754036279.py:14: SettingWithCopyWarning: \n",
      "A value is trying to be set on a copy of a slice from a DataFrame.\n",
      "Try using .loc[row_indexer,col_indexer] = value instead\n",
      "\n",
      "See the caveats in the documentation: https://pandas.pydata.org/pandas-docs/stable/user_guide/indexing.html#returning-a-view-versus-a-copy\n",
      "  category['seller_type']=category['seller_type'].replace({\"Individual\":0,\"Dealer\":1,\"Trustmark Dealer\":2})\n",
      "C:\\Users\\MANIND~1\\AppData\\Local\\Temp/ipykernel_2764/1754036279.py:15: SettingWithCopyWarning: \n",
      "A value is trying to be set on a copy of a slice from a DataFrame.\n",
      "Try using .loc[row_indexer,col_indexer] = value instead\n",
      "\n",
      "See the caveats in the documentation: https://pandas.pydata.org/pandas-docs/stable/user_guide/indexing.html#returning-a-view-versus-a-copy\n",
      "  category['owner']=category['owner'].replace({\"First Owner\":0,\"Second Owner\":1,\"Third Owner\":2,\"Fourth & Above Owner\":3})\n",
      "C:\\Users\\MANIND~1\\AppData\\Local\\Temp/ipykernel_2764/1754036279.py:16: SettingWithCopyWarning: \n",
      "A value is trying to be set on a copy of a slice from a DataFrame.\n",
      "Try using .loc[row_indexer,col_indexer] = value instead\n",
      "\n",
      "See the caveats in the documentation: https://pandas.pydata.org/pandas-docs/stable/user_guide/indexing.html#returning-a-view-versus-a-copy\n",
      "  category['transmission']=category['transmission'].replace({\"Manual\":0,\"Automatic\":1})\n"
     ]
    }
   ],
   "source": [
    "df=df.iloc[:,1:]\n",
    "df\n",
    "\n",
    "numeric=df[['year','selling_price','km_driven','mileage','engine','max_power']]\n",
    "print(numeric)\n",
    "category=df[['name','fuel','seller_type','transmission','owner','seats']]\n",
    "\n",
    "#Owner--> Label\n",
    "#transmision=-> 0 1\n",
    "#seller_type --> One hot encoding\n",
    "\n",
    "#Convert all categories into numbers to apply statistical test over them\n",
    "\n",
    "category['seller_type']=category['seller_type'].replace({\"Individual\":0,\"Dealer\":1,\"Trustmark Dealer\":2})\n",
    "category['owner']=category['owner'].replace({\"First Owner\":0,\"Second Owner\":1,\"Third Owner\":2,\"Fourth & Above Owner\":3})\n",
    "category['transmission']=category['transmission'].replace({\"Manual\":0,\"Automatic\":1})\n",
    "\n",
    "\n"
   ]
  },
  {
   "cell_type": "code",
   "execution_count": 17,
   "id": "f09899f5",
   "metadata": {},
   "outputs": [
    {
     "data": {
      "text/plain": [
       "<AxesSubplot:>"
      ]
     },
     "execution_count": 17,
     "metadata": {},
     "output_type": "execute_result"
    },
    {
     "data": {
      "image/png": "[encoded data removed]",
      "text/plain": [
       "<Figure size 432x288 with 2 Axes>"
      ]
     },
     "metadata": {
      "needs_background": "light"
     },
     "output_type": "display_data"
    }
   ],
   "source": [
    "#Person Correlation Method\n",
    "#This method is used to check wether two numeric columns are correlated with each other or not\n",
    "#This method genrates a Correlation Matrix\n",
    "\n",
    "#This method tells coefficient of Correlation between two variables\n",
    "corr=numeric.corr()\n",
    "corr\n",
    "\n",
    "\n",
    "#Range of COC  --> -1 to +1\n",
    "\n",
    "\n",
    "#Heatmap\n",
    "\n",
    "import seaborn\n",
    "seaborn.heatmap(corr)"
   ]
  },
  {
   "cell_type": "code",
   "execution_count": 18,
   "id": "49b2ec15",
   "metadata": {},
   "outputs": [
    {
     "data": {
      "text/plain": [
       "array([12.62331505,  1.66255597,  6.75364883, 12.03066124,  3.72501674,\n",
       "        2.69501849])"
      ]
     },
     "execution_count": 18,
     "metadata": {},
     "output_type": "execute_result"
    }
   ],
   "source": [
    "#ANOVA-> Analysis of Variance\n",
    "#In anova we find if categories Statistical values are same or not wrt to a numeric column\n",
    "df\n",
    "\n",
    "#Hypothesis testing\n",
    "#H0(Null Hypothesis) --> Every Category variance is same\n",
    "#H1(Alternative Hypothesis) --> Every Category variance is different\n",
    "\n",
    "\n",
    "#Within sum of  square\n",
    "#Between sum of square\n",
    "#Degree of freedom\n",
    "\n",
    "#F value-> F value represents the impact of categorical column on numeric column\n",
    "\n",
    "from sklearn.feature_selection import SelectKBest,f_classif\n",
    "#SelectKbest method is used to sort the important columns according to test passed in parameters of it\n",
    "#f_classif method will calculate Fvalue using anova test\n",
    "select=SelectKBest(f_classif,k=6)#k value represents how many columns we want based on test\n",
    "result=select.fit_transform(category,numeric['selling_price'])\n",
    "#In result there are important columns sorted acc to fvalue \n",
    "result\n",
    "select.scores_#Tell fvalue of each column\n"
   ]
  },
  {
   "cell_type": "markdown",
   "id": "9ee5c0a0",
   "metadata": {},
   "source": [
    "Note: Here You have to select the optimal number of k value which is number of top important columns you want.For instance We are selecting all columns but you can tune this parameter by selecting less number of columns and rerun the whole project"
   ]
  },
  {
   "cell_type": "markdown",
   "id": "5087e5bf",
   "metadata": {},
   "source": [
    "# Outlier Detection"
   ]
  },
  {
   "cell_type": "code",
   "execution_count": 19,
   "id": "661ab500",
   "metadata": {
    "scrolled": true
   },
   "outputs": [
    {
     "data": {
      "image/png": "[encoded data removed]",
      "text/plain": [
       "<Figure size 432x288 with 1 Axes>"
      ]
     },
     "metadata": {
      "needs_background": "light"
     },
     "output_type": "display_data"
    },
    {
     "data": {
      "image/png": "[encoded data removed]",
      "text/plain": [
       "<Figure size 432x288 with 1 Axes>"
      ]
     },
     "metadata": {
      "needs_background": "light"
     },
     "output_type": "display_data"
    },
    {
     "data": {
      "image/png": "[encoded data removed]",
      "text/plain": [
       "<Figure size 432x288 with 1 Axes>"
      ]
     },
     "metadata": {
      "needs_background": "light"
     },
     "output_type": "display_data"
    },
    {
     "data": {
      "image/png": "[encoded data removed]",
      "text/plain": [
       "<Figure size 432x288 with 1 Axes>"
      ]
     },
     "metadata": {
      "needs_background": "light"
     },
     "output_type": "display_data"
    },
    {
     "data": {
      "image/png": "[encoded data removed]",
      "text/plain": [
       "<Figure size 432x288 with 1 Axes>"
      ]
     },
     "metadata": {
      "needs_background": "light"
     },
     "output_type": "display_data"
    },
    {
     "data": {
      "image/png": "[encoded data removed]",
      "text/plain": [
       "<Figure size 432x288 with 1 Axes>"
      ]
     },
     "metadata": {
      "needs_background": "light"
     },
     "output_type": "display_data"
    }
   ],
   "source": [
    "#Outliers --> Points that are away from general pattern of a data\n",
    "\n",
    "#To detect outlier \n",
    "#Normal distribution --> IQ ,Zscore .....\n",
    "\n",
    "#Non Normal --> DBSCAN- Density Based Spatial Application with Noise\n",
    "\n",
    "\n",
    "for x in numeric.columns:\n",
    "    plt.hist(numeric[x])\n",
    "    plt.title(x)\n",
    "    plt.show()"
   ]
  },
  {
   "cell_type": "code",
   "execution_count": 20,
   "id": "4f554cca",
   "metadata": {},
   "outputs": [
    {
     "name": "stdout",
     "output_type": "stream",
     "text": [
      "7714 7714\n"
     ]
    }
   ],
   "source": [
    "#ZSCORE Method\n",
    "\n",
    "# x-xmean/std deviation\n",
    "\n",
    "def Z(column):\n",
    "    mean=column.mean()\n",
    "    std=column.std()\n",
    "    zscores=(column-mean)/std\n",
    "    f=(zscores>3) | (zscores< -3)\n",
    "    return column[f]\n",
    "\n",
    "outliers1=Z(numeric[\"km_driven\"])\n",
    "outliers2=Z(numeric[\"mileage\"])\n",
    "outliers3=Z(numeric['max_power'])\n",
    "\n",
    "\n",
    "\n",
    "\n",
    "numeric=numeric.drop(index=outliers1.index).reset_index(drop=True)\n",
    "category=category.drop(index=outliers1.index).reset_index(drop=True)\n",
    "\n",
    "numeric=numeric.drop(index=outliers2.index).reset_index(drop=True)\n",
    "category=category.drop(index=outliers2.index).reset_index(drop=True)\n",
    "\n",
    "numeric=numeric.drop(index=outliers3.index).reset_index(drop=True)\n",
    "category=category.drop(index=outliers3.index).reset_index(drop=True)\n",
    "\n",
    "print(len(numeric),len(category))"
   ]
  },
  {
   "cell_type": "markdown",
   "id": "6c773b63",
   "metadata": {},
   "source": [
    "# DBSCAN"
   ]
  },
  {
   "cell_type": "code",
   "execution_count": 21,
   "id": "baeb84fb",
   "metadata": {},
   "outputs": [
    {
     "data": {
      "image/png": "[encoded data removed]",
      "text/plain": [
       "<Figure size 432x288 with 1 Axes>"
      ]
     },
     "metadata": {
      "needs_background": "light"
     },
     "output_type": "display_data"
    },
    {
     "data": {
      "image/png": "[encoded data removed]",
      "text/plain": [
       "<Figure size 432x288 with 1 Axes>"
      ]
     },
     "metadata": {
      "needs_background": "light"
     },
     "output_type": "display_data"
    },
    {
     "name": "stdout",
     "output_type": "stream",
     "text": [
      "[-1  0  1  2  3  4  5  6  7  8  9 10 11 12 13 14 15 16 17 18 19 20 21 22\n",
      " 23 24 25 26]\n"
     ]
    },
    {
     "data": {
      "image/png": "[encoded data removed]",
      "text/plain": [
       "<Figure size 432x288 with 1 Axes>"
      ]
     },
     "metadata": {
      "needs_background": "light"
     },
     "output_type": "display_data"
    },
    {
     "name": "stdout",
     "output_type": "stream",
     "text": [
      "7473\n"
     ]
    }
   ],
   "source": [
    "#DBSCAN is a non parametric algorithim that is used to take out the noise from dataset by clustering into labels \n",
    "engine=numeric[['engine','selling_price']]\n",
    "\n",
    "plt.scatter(engine['engine'],engine['selling_price'])\n",
    "plt.show()\n",
    "\n",
    "#Value of epsilon  and n?\n",
    "#To find the optimal value of epsilon we will make K-Distance Graph\n",
    "#K distance graph--> Tells the Trend of nearest distances of each point\n",
    "\n",
    "#Why scaling --> Because we have to analyze the distances of points\n",
    "from sklearn.preprocessing import MinMaxScaler\n",
    "mn=MinMaxScaler()\n",
    "engine=mn.fit_transform(engine)\n",
    "\n",
    "#Step1--> Find out value of epsilon and n samples\n",
    "#Step 2--> Make K-distance graph\n",
    "#       2(a)--> Find out NEarest neigbors of each point\n",
    "\n",
    "from sklearn.neighbors import NearestNeighbors\n",
    "nn=NearestNeighbors(n_neighbors=10)#n_neighbors means how many neighbors we want\n",
    "\n",
    "nn.fit(engine)#Calculate the nearest neighbors of each point\n",
    "\n",
    "distances,indexes=nn.kneighbors(engine)#kneighbors function tells the index and distance of each 10 neighbors wrt to each point\n",
    "distances.shape\n",
    "\n",
    "#    2(b) --> Sort the distance\n",
    "distances=np.sort(distances,axis=0)\n",
    "#    2(c) --> Extract out nearest neighbor distances\n",
    "distances=distances[:,1]\n",
    "#Note: Why we extarct 1column--> 0th column contain distance of point with itself\n",
    "#   2(d) --> Plot the line plot\n",
    "plt.plot(distances)\n",
    "plt.title(\"K-Distance Graph\")\n",
    "plt.show()\n",
    "#   2(e) --> select that point of graph where curve is bending\n",
    "\n",
    "#step 3--> Run DBSCAN ALgorithim\n",
    "from sklearn.cluster import DBSCAN\n",
    "dbscan=DBSCAN(eps=0.015,min_samples=10)#min_samples will be choosen aacording to domain knowledge\n",
    "dbscan.fit(engine)\n",
    "#Dbscan will label the samples into   Core point,.  Border Point  Noise\n",
    "\n",
    "print(np.unique(dbscan.labels_))\n",
    "#In labels_ dbscan will label the noise with -1\n",
    "#Step4 --> Remove the rows with -1 label\n",
    "\n",
    "colors=dbscan.labels_\n",
    "colors[colors!=-1]=0\n",
    "plt.scatter(numeric['engine'],numeric['selling_price'],c=colors)\n",
    "plt.title(\"Outliers\")\n",
    "plt.show()\n",
    "\n",
    "\n",
    "numeric=numeric[~(dbscan.labels_==-1)]#It will return those rows with labels except than -1\n",
    "category=category[~(dbscan.labels_==-1)]\n",
    "print(len(numeric))\n",
    "#Task--> Make scatter plot of engine with points colored differently according to dbscan.labels_"
   ]
  },
  {
   "cell_type": "code",
   "execution_count": 22,
   "id": "5b310154",
   "metadata": {},
   "outputs": [
    {
     "data": {
      "text/plain": [
       "(      year  km_driven  mileage   engine  max_power  name  fuel  seller_type  \\\n",
       " 0     2014     145500   23.400 1248.000     74.000     1     0            0   \n",
       " 1     2014     120000   21.140 1498.000    103.520     1     0            0   \n",
       " 2     2006     140000   17.700 1497.000     78.000     1     0            0   \n",
       " 3     2010     127000   23.000 1396.000     90.000     1     0            0   \n",
       " 4     2007     120000   16.100 1298.000     88.200     1     0            0   \n",
       " ...    ...        ...      ...      ...        ...   ...   ...          ...   \n",
       " 7709  2013     110000   18.500 1197.000     82.850     1     0            0   \n",
       " 7710  2007     119000   16.800 1493.000    110.000     1     0            0   \n",
       " 7711  2009     120000   19.300 1248.000     73.900     1     0            0   \n",
       " 7712  2013      25000   23.570 1396.000     70.000     1     0            0   \n",
       " 7713  2013      25000   23.570 1396.000     70.000     1     0            0   \n",
       " \n",
       "       transmission  owner  seats  \n",
       " 0                0      0  5.000  \n",
       " 1                0      1  5.000  \n",
       " 2                0      2  5.000  \n",
       " 3                0      0  5.000  \n",
       " 4                0      0  5.000  \n",
       " ...            ...    ...    ...  \n",
       " 7709             0      0  5.000  \n",
       " 7710             0      3  5.000  \n",
       " 7711             0      0  5.000  \n",
       " 7712             0      0  5.000  \n",
       " 7713             0      0  5.000  \n",
       " \n",
       " [7473 rows x 11 columns],\n",
       " 0       450000\n",
       " 1       370000\n",
       " 2       158000\n",
       " 3       225000\n",
       " 4       130000\n",
       "          ...  \n",
       " 7709    320000\n",
       " 7710    135000\n",
       " 7711    382000\n",
       " 7712    290000\n",
       " 7713    290000\n",
       " Name: selling_price, Length: 7473, dtype: int64)"
      ]
     },
     "execution_count": 22,
     "metadata": {},
     "output_type": "execute_result"
    }
   ],
   "source": [
    "X=numeric.drop(columns=['selling_price'])\n",
    "X=pd.concat((X,category),axis=1)\n",
    "\n",
    "y=numeric['selling_price']\n",
    "X,y"
   ]
  },
  {
   "cell_type": "code",
   "execution_count": 23,
   "id": "b75685f6",
   "metadata": {},
   "outputs": [],
   "source": [
    "from sklearn.preprocessing import StandardScaler\n",
    "sc=StandardScaler()\n",
    "X=sc.fit_transform(X)"
   ]
  },
  {
   "cell_type": "code",
   "execution_count": 24,
   "id": "ad5ce146",
   "metadata": {},
   "outputs": [],
   "source": [
    "from sklearn.model_selection import train_test_split\n",
    "X_train,X_test,y_train,y_test=train_test_split(X,y,test_size=0.2,random_state=0)"
   ]
  },
  {
   "cell_type": "code",
   "execution_count": 25,
   "id": "d91f3387",
   "metadata": {},
   "outputs": [
    {
     "name": "stdout",
     "output_type": "stream",
     "text": [
      "0.9729960382685086\n"
     ]
    }
   ],
   "source": [
    "from sklearn.ensemble import RandomForestRegressor\n",
    "regressor=RandomForestRegressor()\n",
    "regressor.fit(X_train,y_train)\n",
    "\n",
    "y_pred=regressor.predict(X_test)\n",
    "\n",
    "from sklearn.metrics import r2_score\n",
    "print(r2_score(y_test,y_pred))"
   ]
  },
  {
   "cell_type": "code",
   "execution_count": 26,
   "id": "e6c08f72",
   "metadata": {},
   "outputs": [
    {
     "data": {
      "text/plain": [
       "array([492669.93])"
      ]
     },
     "execution_count": 26,
     "metadata": {},
     "output_type": "execute_result"
    }
   ],
   "source": [
    "\n",
    "temp=np.reshape(X[0,:],(1,X[0,:].shape[0]))\n",
    "regressor.predict(temp)"
   ]
  },
  {
   "cell_type": "code",
   "execution_count": 27,
   "id": "6a1bb773",
   "metadata": {},
   "outputs": [
    {
     "data": {
      "text/html": [
       "<style>#sk-container-id-1 {color: black;background-color: white;}#sk-container-id-1 pre{padding: 0;}#sk-container-id-1 div.sk-toggleable {background-color: white;}#sk-container-id-1 label.sk-toggleable__label {cursor: pointer;display: block;width: 100%;margin-bottom: 0;padding: 0.3em;box-sizing: border-box;text-align: center;}#sk-container-id-1 label.sk-toggleable__label-arrow:before {content: \"▸\";float: left;margin-right: 0.25em;color: #696969;}#sk-container-id-1 label.sk-toggleable__label-arrow:hover:before {color: black;}#sk-container-id-1 div.sk-estimator:hover label.sk-toggleable__label-arrow:before {color: black;}#sk-container-id-1 div.sk-toggleable__content {max-height: 0;max-width: 0;overflow: hidden;text-align: left;background-color: #f0f8ff;}#sk-container-id-1 div.sk-toggleable__content pre {margin: 0.2em;color: black;border-radius: 0.25em;background-color: #f0f8ff;}#sk-container-id-1 input.sk-toggleable__control:checked~div.sk-toggleable__content {max-height: 200px;max-width: 100%;overflow: auto;}#sk-container-id-1 input.sk-toggleable__control:checked~label.sk-toggleable__label-arrow:before {content: \"▾\";}#sk-container-id-1 div.sk-estimator input.sk-toggleable__control:checked~label.sk-toggleable__label {background-color: #d4ebff;}#sk-container-id-1 div.sk-label input.sk-toggleable__control:checked~label.sk-toggleable__label {background-color: #d4ebff;}#sk-container-id-1 input.sk-hidden--visually {border: 0;clip: rect(1px 1px 1px 1px);clip: rect(1px, 1px, 1px, 1px);height: 1px;margin: -1px;overflow: hidden;padding: 0;position: absolute;width: 1px;}#sk-container-id-1 div.sk-estimator {font-family: monospace;background-color: #f0f8ff;border: 1px dotted black;border-radius: 0.25em;box-sizing: border-box;margin-bottom: 0.5em;}#sk-container-id-1 div.sk-estimator:hover {background-color: #d4ebff;}#sk-container-id-1 div.sk-parallel-item::after {content: \"\";width: 100%;border-bottom: 1px solid gray;flex-grow: 1;}#sk-container-id-1 div.sk-label:hover label.sk-toggleable__label {background-color: #d4ebff;}#sk-container-id-1 div.sk-serial::before {content: \"\";position: absolute;border-left: 1px solid gray;box-sizing: border-box;top: 0;bottom: 0;left: 50%;z-index: 0;}#sk-container-id-1 div.sk-serial {display: flex;flex-direction: column;align-items: center;background-color: white;padding-right: 0.2em;padding-left: 0.2em;position: relative;}#sk-container-id-1 div.sk-item {position: relative;z-index: 1;}#sk-container-id-1 div.sk-parallel {display: flex;align-items: stretch;justify-content: center;background-color: white;position: relative;}#sk-container-id-1 div.sk-item::before, #sk-container-id-1 div.sk-parallel-item::before {content: \"\";position: absolute;border-left: 1px solid gray;box-sizing: border-box;top: 0;bottom: 0;left: 50%;z-index: -1;}#sk-container-id-1 div.sk-parallel-item {display: flex;flex-direction: column;z-index: 1;position: relative;background-color: white;}#sk-container-id-1 div.sk-parallel-item:first-child::after {align-self: flex-end;width: 50%;}#sk-container-id-1 div.sk-parallel-item:last-child::after {align-self: flex-start;width: 50%;}#sk-container-id-1 div.sk-parallel-item:only-child::after {width: 0;}#sk-container-id-1 div.sk-dashed-wrapped {border: 1px dashed gray;margin: 0 0.4em 0.5em 0.4em;box-sizing: border-box;padding-bottom: 0.4em;background-color: white;}#sk-container-id-1 div.sk-label label {font-family: monospace;font-weight: bold;display: inline-block;line-height: 1.2em;}#sk-container-id-1 div.sk-label-container {text-align: center;}#sk-container-id-1 div.sk-container {/* jupyter's `normalize.less` sets `[hidden] { display: none; }` but bootstrap.min.css set `[hidden] { display: none !important; }` so we also need the `!important` here to be able to override the default hidden behavior on the sphinx rendered scikit-learn.org. See: https://github.com/scikit-learn/scikit-learn/issues/21755 */display: inline-block !important;position: relative;}#sk-container-id-1 div.sk-text-repr-fallback {display: none;}</style><div id=\"sk-container-id-1\" class=\"sk-top-container\"><div class=\"sk-text-repr-fallback\"><pre>GridSearchCV(cv=5, estimator=RandomForestRegressor(),\n",
       "             param_grid={&#x27;max_depth&#x27;: [10, 20, 50, 100, 200, 300],\n",
       "                         &#x27;min_samples_split&#x27;: [5, 10, 11, 20],\n",
       "                         &#x27;n_estimators&#x27;: [40, 50, 100, 200]},\n",
       "             scoring=&#x27;r2&#x27;)</pre><b>In a Jupyter environment, please rerun this cell to show the HTML representation or trust the notebook. <br />On GitHub, the HTML representation is unable to render, please try loading this page with nbviewer.org.</b></div><div class=\"sk-container\" hidden><div class=\"sk-item sk-dashed-wrapped\"><div class=\"sk-label-container\"><div class=\"sk-label sk-toggleable\"><input class=\"sk-toggleable__control sk-hidden--visually\" id=\"sk-estimator-id-1\" type=\"checkbox\" ><label for=\"sk-estimator-id-1\" class=\"sk-toggleable__label sk-toggleable__label-arrow\">GridSearchCV</label><div class=\"sk-toggleable__content\"><pre>GridSearchCV(cv=5, estimator=RandomForestRegressor(),\n",
       "             param_grid={&#x27;max_depth&#x27;: [10, 20, 50, 100, 200, 300],\n",
       "                         &#x27;min_samples_split&#x27;: [5, 10, 11, 20],\n",
       "                         &#x27;n_estimators&#x27;: [40, 50, 100, 200]},\n",
       "             scoring=&#x27;r2&#x27;)</pre></div></div></div><div class=\"sk-parallel\"><div class=\"sk-parallel-item\"><div class=\"sk-item\"><div class=\"sk-label-container\"><div class=\"sk-label sk-toggleable\"><input class=\"sk-toggleable__control sk-hidden--visually\" id=\"sk-estimator-id-2\" type=\"checkbox\" ><label for=\"sk-estimator-id-2\" class=\"sk-toggleable__label sk-toggleable__label-arrow\">estimator: RandomForestRegressor</label><div class=\"sk-toggleable__content\"><pre>RandomForestRegressor()</pre></div></div></div><div class=\"sk-serial\"><div class=\"sk-item\"><div class=\"sk-estimator sk-toggleable\"><input class=\"sk-toggleable__control sk-hidden--visually\" id=\"sk-estimator-id-3\" type=\"checkbox\" ><label for=\"sk-estimator-id-3\" class=\"sk-toggleable__label sk-toggleable__label-arrow\">RandomForestRegressor</label><div class=\"sk-toggleable__content\"><pre>RandomForestRegressor()</pre></div></div></div></div></div></div></div></div></div></div>"
      ],
      "text/plain": [
       "GridSearchCV(cv=5, estimator=RandomForestRegressor(),\n",
       "             param_grid={'max_depth': [10, 20, 50, 100, 200, 300],\n",
       "                         'min_samples_split': [5, 10, 11, 20],\n",
       "                         'n_estimators': [40, 50, 100, 200]},\n",
       "             scoring='r2')"
      ]
     },
     "execution_count": 27,
     "metadata": {},
     "output_type": "execute_result"
    }
   ],
   "source": [
    "#Method use to find best parameters of any model\n",
    "#Grid Search CV  \n",
    "from sklearn.ensemble import RandomForestRegressor\n",
    "regressor=RandomForestRegressor()\n",
    "\n",
    "#Grid search cv is a method that automatically choose best parameters for training model\n",
    "#which leads to improved score\n",
    "\n",
    "param_grid={\"max_depth\":[10,20,50,100,200,300],\n",
    "           \"min_samples_split\":[5,10,11,20],\n",
    "           \"n_estimators\":[40,50,100,200]}\n",
    "\n",
    "from sklearn.model_selection import GridSearchCV\n",
    "grid=GridSearchCV(estimator=regressor,param_grid=param_grid,cv=5,scoring=\"r2\")\n",
    "\n",
    "grid.fit(X_train,y_train)\n"
   ]
  },
  {
   "cell_type": "code",
   "execution_count": 29,
   "id": "046c9d82",
   "metadata": {},
   "outputs": [
    {
     "name": "stdout",
     "output_type": "stream",
     "text": [
      "BEst score 0.9797946404029512\n",
      "BEst parameters {'max_depth': 200, 'min_samples_split': 5, 'n_estimators': 100}\n",
      "0.9733830359568914\n"
     ]
    }
   ],
   "source": [
    "\n",
    "print(\"BEst score\",grid.best_score_)\n",
    "print(\"BEst parameters\",grid.best_params_)\n",
    "\n",
    "regressor=RandomForestRegressor(max_depth=200,min_samples_split=5,n_estimators=100)\n",
    "regressor.fit(X_train,y_train)\n",
    "\n",
    "#Testing\n",
    "\n",
    "\n",
    "y_pred=regressor.predict(X_test)\n",
    "\n",
    "from sklearn.metrics import r2_score\n",
    "print(r2_score(y_test,y_pred))"
   ]
  }
 ],
 "metadata": {
  "kernelspec": {
   "display_name": "Python 3 (ipykernel)",
   "language": "python",
   "name": "python3"
  },
  "language_info": {
   "codemirror_mode": {
    "name": "ipython",
    "version": 3
   },
   "file_extension": ".py",
   "mimetype": "text/x-python",
   "name": "python",
   "nbconvert_exporter": "python",
   "pygments_lexer": "ipython3",
   "version": "3.11.5"
  }
 },
 "nbformat": 4,
 "nbformat_minor": 5
}
